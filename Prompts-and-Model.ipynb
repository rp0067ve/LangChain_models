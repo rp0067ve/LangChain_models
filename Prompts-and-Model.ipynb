{
 "cells": [
  {
   "cell_type": "markdown",
   "id": "ede50d4d-6b9b-46b4-946c-edc6bde899c7",
   "metadata": {},
   "source": [
    "<a href = \"https://www.pieriantraining.com\"><img src=\"../PT Centered Purple.png\"> </a>\n",
    "\n",
    "<em style=\"text-align:center\">Copyrighted by Pierian Training</em>"
   ]
  },
  {
   "cell_type": "markdown",
   "id": "6c706772-7bbb-41a9-ab96-6480bc3ef2a3",
   "metadata": {
    "tags": []
   },
   "source": [
    "# Prompts and Models Exercise\n",
    "\n",
    "### NOTE: FEEL FREE TO JUST TREAT THIS AS A CODE ALONG EXAMPLE IF YOU DONT WANT AN EXERCISE BUT RATHER WATCH AN EXAMPLE.\n",
    "\n",
    "**TASK: Create a Python function that uses Prompts and Chat internally to give travel ideas related to two variables:**\n",
    "\n",
    "    * An Interest or Hobby\n",
    "    * A Budget\n",
    "    \n",
    "Remember that you should also decide on a system prompt. The end function will just be a nice wrapper on top of all the previous LangChain components we've discussed earlier."
   ]
  },
  {
   "cell_type": "code",
   "execution_count": 1,
   "id": "b4e6adae-ddfa-403f-afbc-eac1ff964c54",
   "metadata": {},
   "outputs": [],
   "source": [
    "def travel_idea(interest,budget):\n",
    "    '''\n",
    "    INPUTS:\n",
    "        interest: A str interest or hobby (e.g. fishing)\n",
    "        budget: A str budget (e.g. $10,000)\n",
    "    '''\n",
    "    pass"
   ]
  },
  {
   "cell_type": "markdown",
   "id": "34d0ecc5-a526-4a9b-933f-e7785f9401df",
   "metadata": {},
   "source": [
    "**Example Solution**\n",
    "\n",
    "Keep in mind your solution may differ slightly, but as long as it works, that's ok!"
   ]
  },
  {
   "cell_type": "code",
   "execution_count": 3,
   "id": "9398c358",
   "metadata": {},
   "outputs": [],
   "source": [
    "import os\n",
    "os.environ['OPENAI_API_KEY'] = 'yourapi'"
   ]
  },
  {
   "cell_type": "code",
   "execution_count": 5,
   "id": "320be1cb-a639-460d-8472-fb6def536b19",
   "metadata": {},
   "outputs": [],
   "source": [
    "f = open('/Users/koichirosuzuki/Desktop/desktop_openai.txt')\n",
    "api_key = f.read()"
   ]
  },
  {
   "cell_type": "code",
   "execution_count": 6,
   "id": "df2fd2ad-66f9-4462-9436-5cc5e7ea2d7f",
   "metadata": {},
   "outputs": [],
   "source": [
    "# DON\"T FORGET YOUR IMPORTS!\n",
    "\n",
    "from langchain.chat_models import ChatOpenAI\n",
    "from langchain.prompts import (\n",
    "    ChatPromptTemplate,\n",
    "    PromptTemplate,\n",
    "    SystemMessagePromptTemplate,\n",
    "    AIMessagePromptTemplate,\n",
    "    HumanMessagePromptTemplate,\n",
    ")\n",
    "\n",
    "def travel_idea(interest,budget):\n",
    "    '''\n",
    "    INPUTS:\n",
    "        interest: A str interest or hobby (e.g. fishing)\n",
    "        budget: A str budget (e.g. $10,000)\n",
    "    '''\n",
    "        # PART ONE: SYSTEM\n",
    "    system_template=\"You are an AI Travel Agent that helps people plan trips about {interest} on a budget of {budget}\"\n",
    "    system_message_prompt = SystemMessagePromptTemplate.from_template(system_template)\n",
    "        # PART TWO: HUMAN REQUEST\n",
    "    human_template=\"{travel_help_request}\"\n",
    "    human_message_prompt = HumanMessagePromptTemplate.from_template(human_template)\n",
    "        # PART THREE: COMPILE TO CHAT\n",
    "    chat_prompt = ChatPromptTemplate.from_messages([system_message_prompt, human_message_prompt])\n",
    "        # PART FOUR: INSERT VARIABLES\n",
    "    request = chat_prompt.format_prompt(interest=interest, budget=budget, travel_help_request=\"Please give me an example travel itinerary\").to_messages()\n",
    "        # PART FIVE: CHAT REQUEST\n",
    "    chat = ChatOpenAI(openai_api_key=api_key)\n",
    "    result = chat(request)\n",
    "    return result.content\n"
   ]
  },
  {
   "cell_type": "code",
   "execution_count": 12,
   "id": "f7e240b6-96cf-4163-ad19-90a44cf7ef24",
   "metadata": {},
   "outputs": [
    {
     "name": "stdout",
     "output_type": "stream",
     "text": [
      "Sure! Here's an example travel itinerary for a trip to Okayama with a budget of $300:\n",
      "\n",
      "Day 1:\n",
      "- Arrive in Okayama and check into a budget hotel or hostel. (Cost: $50)\n",
      "- Visit Okayama Castle, known as \"Crow Castle,\" and explore the beautiful Korakuen Garden. (Cost: $10)\n",
      "- Enjoy a budget-friendly lunch at a local eatery, such as a noodle shop or a street food stall. (Cost: $10)\n",
      "- Take a stroll along the picturesque Asahi River and enjoy the scenic views. (Free)\n",
      "- Visit the Okayama Prefectural Museum of Art, which houses a collection of modern and contemporary art. (Cost: $5)\n",
      "- Have a budget dinner at a local izakaya, where you can try various Japanese dishes at affordable prices. (Cost: $15)\n",
      "\n",
      "Day 2:\n",
      "- Take a day trip to Kurashiki, a historic town located near Okayama. Explore the charming Kurashiki Bikan Historical Quarter and its traditional Japanese architecture. (Cost: $10 for train fare)\n",
      "- Visit the Ohara Museum of Art in Kurashiki, which features a collection of Western art. (Cost: $10)\n",
      "- Enjoy a budget-friendly lunch at a local cafe or restaurant in Kurashiki. (Cost: $10)\n",
      "- Take a relaxing boat ride along the scenic Kurashiki Canal. (Cost: $5)\n",
      "- Return to Okayama in the afternoon and spend the rest of the day exploring the city at your leisure.\n",
      "- Have a budget dinner at a local sushi or ramen restaurant. (Cost: $15)\n",
      "\n",
      "Day 3:\n",
      "- Explore the Kibitsu Shrine, known for its unique architecture and beautiful surroundings. (Cost: $5)\n",
      "- Visit the Okayama Prefectural Museum, where you can learn about the history and culture of Okayama. (Cost: $5)\n",
      "- Enjoy a budget-friendly lunch at a local market, where you can try various fresh and affordable local delicacies. (Cost: $10)\n",
      "- Take a walk through the lively shopping streets of Okayama, such as Omotecho and Tenmaya. (Free)\n",
      "- Visit the Okayama City Museum of Art, which showcases a collection of Japanese and Asian art. (Cost: $5)\n",
      "- Have a budget dinner at a local yakitori or yakiniku restaurant. (Cost: $15)\n",
      "\n",
      "Total estimated cost for the trip: $170 (excluding accommodation and transportation). This leaves you with $130 for a 2-night stay in a budget hotel or hostel and transportation expenses. Keep in mind that prices may vary, and it's always a good idea to check the latest rates and availability before your trip.\n"
     ]
    }
   ],
   "source": [
    "print(travel_idea('Okayama (Restaurant)','$300'))"
   ]
  },
  {
   "cell_type": "code",
   "execution_count": null,
   "id": "a2354b1e",
   "metadata": {},
   "outputs": [],
   "source": []
  }
 ],
 "metadata": {
  "kernelspec": {
   "display_name": "Python 3 (ipykernel)",
   "language": "python",
   "name": "python3"
  },
  "language_info": {
   "codemirror_mode": {
    "name": "ipython",
    "version": 3
   },
   "file_extension": ".py",
   "mimetype": "text/x-python",
   "name": "python",
   "nbconvert_exporter": "python",
   "pygments_lexer": "ipython3",
   "version": "3.11.0"
  }
 },
 "nbformat": 4,
 "nbformat_minor": 5
}
